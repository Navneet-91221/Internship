{
 "cells": [
  {
   "cell_type": "code",
   "execution_count": 8,
   "id": "e84b80e5",
   "metadata": {},
   "outputs": [
    {
     "name": "stdout",
     "output_type": "stream",
     "text": [
      "Enter a number: 20\n",
      "The factorial of 20 is 2432902008176640000\n"
     ]
    }
   ],
   "source": [
    "#11. Write a python program to find the factorial of a number.\n",
    "\n",
    "num = int(input(\"Enter a number: \"))\n",
    "\n",
    "factorial = 1\n",
    "\n",
    "if num < 0:\n",
    "    print(\"Sorry, factorial does not exist for negative numbers.\")\n",
    "elif num == 0:\n",
    "    print(\"The factorial of 0 is 1.\")\n",
    "else:\n",
    "    # calculate the factorial using a for loop\n",
    "    for i in range(1, num + 1):\n",
    "        factorial = factorial * i\n",
    "    print(\"The factorial of\", num, \"is\", factorial)"
   ]
  },
  {
   "cell_type": "code",
   "execution_count": 9,
   "id": "43f41cf5",
   "metadata": {},
   "outputs": [
    {
     "name": "stdout",
     "output_type": "stream",
     "text": [
      "Enter a number: 12\n",
      "12 is a composite number\n"
     ]
    }
   ],
   "source": [
    "#12. Write a python program to find whether a number is prime or composite.\n",
    "\n",
    "n = int(input(\"Enter a number: \"))\n",
    "\n",
    "if n <= 1:\n",
    "    print(n, \"is neither prime nor composite\")\n",
    "else:\n",
    "    for i in range(2, n):\n",
    "        if n % i == 0:\n",
    "            print(n, \"is a composite number\")\n",
    "            break\n",
    "    else:\n",
    "        print(n, \"is a prime number\")"
   ]
  },
  {
   "cell_type": "code",
   "execution_count": 13,
   "id": "08eed038",
   "metadata": {},
   "outputs": [],
   "source": [
    "#13. Write a python program to check whether a given string is palindrome or not\n",
    "\n",
    "def is_palindrome(s):\n",
    "    s = s.lower()\n",
    "    reversed_s = s[::-1]\n",
    "    return s == reversed_s"
   ]
  },
  {
   "cell_type": "code",
   "execution_count": 14,
   "id": "1df9271c",
   "metadata": {},
   "outputs": [
    {
     "name": "stdout",
     "output_type": "stream",
     "text": [
      "racecar is palindrome: True\n",
      "hello is palindrome: False\n"
     ]
    }
   ],
   "source": [
    "s1 = \"racecar\"\n",
    "s2 = \"hello\"\n",
    "print(f\"{s1} is palindrome: {is_palindrome(s1)}\")\n",
    "print(f\"{s2} is palindrome: {is_palindrome(s2)}\")"
   ]
  },
  {
   "cell_type": "code",
   "execution_count": 15,
   "id": "17c7dac2",
   "metadata": {},
   "outputs": [
    {
     "name": "stdout",
     "output_type": "stream",
     "text": [
      "Enter the length of first side: 25\n",
      "Enter the length of second side: 30\n",
      "The length of the third side is: 39.05124837953327\n"
     ]
    }
   ],
   "source": [
    "#14. Write a Python program to get the third side of right-angled triangle from two given sides.\n",
    "\n",
    "import math\n",
    "\n",
    "# Input the lengths of two sides of the right-angled triangle\n",
    "a = float(input(\"Enter the length of first side: \"))\n",
    "b = float(input(\"Enter the length of second side: \"))\n",
    "\n",
    "# Calculate the length of the third side using the Pythagorean theorem\n",
    "c = math.sqrt(a**2 + b**2)\n",
    "\n",
    "# Print the length of the third side\n",
    "print(\"The length of the third side is:\", c)"
   ]
  },
  {
   "cell_type": "code",
   "execution_count": 16,
   "id": "28c314a7",
   "metadata": {},
   "outputs": [
    {
     "name": "stdout",
     "output_type": "stream",
     "text": [
      "Enter a string: Navneet\n",
      "N : 1\n",
      "a : 1\n",
      "v : 1\n",
      "n : 1\n",
      "e : 2\n",
      "t : 1\n"
     ]
    }
   ],
   "source": [
    "#15. Write a python program to print the frequency of each of the characters present in a given string.\n",
    "\n",
    "string = input(\"Enter a string: \")\n",
    "\n",
    "freq = {} \n",
    "\n",
    "for char in string:\n",
    "    if char in freq:\n",
    "        freq[char] += 1  \n",
    "    else:\n",
    "        freq[char] = 1 \n",
    "\n",
    "# print the frequency of each character\n",
    "for char in freq:\n",
    "    print(char, \":\", freq[char])"
   ]
  },
  {
   "cell_type": "code",
   "execution_count": null,
   "id": "5c5eef80",
   "metadata": {},
   "outputs": [],
   "source": []
  }
 ],
 "metadata": {
  "kernelspec": {
   "display_name": "Python 3 (ipykernel)",
   "language": "python",
   "name": "python3"
  },
  "language_info": {
   "codemirror_mode": {
    "name": "ipython",
    "version": 3
   },
   "file_extension": ".py",
   "mimetype": "text/x-python",
   "name": "python",
   "nbconvert_exporter": "python",
   "pygments_lexer": "ipython3",
   "version": "3.9.12"
  }
 },
 "nbformat": 4,
 "nbformat_minor": 5
}
